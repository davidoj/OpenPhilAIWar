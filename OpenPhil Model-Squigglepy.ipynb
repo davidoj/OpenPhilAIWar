{
 "cells": [
  {
   "cell_type": "code",
   "execution_count": 1,
   "metadata": {},
   "outputs": [],
   "source": [
    "import os\n",
    "import numpy as np\n",
    "import pandas as pd\n",
    "import jax.numpy as jnp\n",
    "from jax import random, vmap\n",
    "import squigglepy as sq\n",
    "\n",
    "import numpyro\n",
    "import numpyro.distributions as dist\n",
    "from numpyro.infer import MCMC, NUTS, DiscreteHMCGibbs, MixedHMC\n",
    "from jax.scipy.special import logit, expit\n",
    "\n",
    "from matplotlib import pyplot as plt\n",
    "import seaborn as sns\n",
    "sns.set()"
   ]
  },
  {
   "cell_type": "code",
   "execution_count": 390,
   "metadata": {},
   "outputs": [],
   "source": [
    "# TODO: make the estimator the suffix and the subject the prefix\n",
    "\n",
    "def iterative_build_model(steps):\n",
    "    '''\n",
    "    Given evidence from previous steps, \n",
    "    will humans continue to next step of AI development?\n",
    "    '''\n",
    "    \n",
    "    # How capable are AIs at things \"AI\" wants initially\n",
    "    ai_capabilities = sq.normal(mean=-3,sd=1)\n",
    "    \n",
    "    # How capable are humans initially (incl. how well can humans get what humans want from AI)\n",
    "    hum_capabilities = np.array([0])\n",
    "    \n",
    "    # Initial human-assessed probability of war\n",
    "    numpyro.deterministic('p_war_0_hum',0)\n",
    "    \n",
    "    # Initial actual probability of war\n",
    "    numpyro.deterministic('p_war_0',0)\n",
    "\n",
    "    # How hard is deception?\n",
    "    # Note that difficulty 0 is by definition the difficulty of AI winning a war vs humans\n",
    "    deception_difficulty = numpyro.sample('deception_difficulty', dist.Normal(-3,5))\n",
    " \n",
    "    # How hard is alignment?\n",
    "    # There's a strong assumption here that alignment is a single problem \n",
    "    # that only needs to be solved once\n",
    "    # Note: the parameters here are a bit of a hack to get the right averages in the samples\n",
    "    alignment_difficulty = numpyro.sample('alignment_difficulty', dist.Normal(2,10))\n",
    "    \n",
    "    # Positive value means humans have an advantage in a war at equal capability\n",
    "    war_difficulty = numpyro.sample('difficulty_to_beat_humans', dist.Normal(0,2))\n",
    "    \n",
    "    # If experts agree AI is too risky, \n",
    "    # how hard is it to enact policy that adequately manages the risk?\n",
    "    coordination_difficulty = numpyro.sample('coordination_difficulty', dist.Normal(1.5,1))\n",
    "    \n",
    "    # Coordination doesn't improve straightforwardly with capability\n",
    "    # because capability also boosts the capacity of hard-to-coordinate individuals\n",
    "    coordination_scaling = numpyro.sample('coordination_scaling', dist.Beta(4,2))\n",
    " \n",
    "    # How hard is it to assess the difficulty of hard problems?\n",
    "    # Intuition: it's hard to confidently tell the difference between \"a bit too hard\"\n",
    "    # and \"much too hard\"\n",
    "    # but futurists might at least be unbiased \n",
    "    # https://www.cold-takes.com/the-track-record-of-futurists-seems-fine/\n",
    "    difficulty_uncertainty_coefficient = numpyro.sample('difficulty_uncertainty_coefficient', dist.Beta(2,6))\n",
    "    \n",
    "    # How much capability can misaligned AI hold back?\n",
    "    holdback = numpyro.sample('holdback', dist.Gamma(2, 1/2))\n",
    "    \n",
    "    ai_capability = ai_capabilities[-1]\n",
    "    hum_capability = hum_capabilities[-1]\n",
    "    \n",
    "    for step in range(1,steps):\n",
    "               \n",
    "        # Alignment solved?\n",
    "        alignment = roll_for_success(\n",
    "            hum_capability, \n",
    "            alignment_difficulty, \n",
    "            step,\n",
    "            'alignment',\n",
    "            'hum')\n",
    "                                          \n",
    "        \n",
    "        # Does AI succeed at deception?\n",
    "        deception = roll_for_success(\n",
    "            ai_capability, \n",
    "            hum_capability + deception_difficulty, \n",
    "            step,\n",
    "            'deception',\n",
    "            'ai'\n",
    "        )\n",
    "        \n",
    "        misaligned_priorities_next = misaligned_priorities(ai_capability, hum_capability, step)\n",
    "        aligned_priorities_next = aligned_priorities(step)\n",
    "              \n",
    "        hum_war_eval = numpyro.deterministic(f'p_war_{step}_hum',\n",
    "                                  human_eval(\n",
    "                                     ai_capability, \n",
    "                                     hum_capability, \n",
    "                                     deception_difficulty, \n",
    "                                     aligned_priorities_next, \n",
    "                                     misaligned_priorities_next, \n",
    "                                     alignment_difficulty,\n",
    "                                     difficulty_uncertainty_coefficient,\n",
    "                                     war_difficulty,\n",
    "                                     step)\n",
    "                                 )\n",
    "\n",
    "        alignment_coordination = roll_for_success(\n",
    "            hum_capabilities[0]+coordination_scaling*(hum_capability-hum_capabilities[0]), \n",
    "            coordination_difficulty, \n",
    "            step,\n",
    "            'coordination',\n",
    "            'hum'\n",
    "        )\n",
    "        \n",
    "        alignment_priority = numpyro.deterministic(f'alignment_priority_{step}',\n",
    "                                                  jnp.int8(hum_war_eval > 0.5)*alignment_coordination\n",
    "                                                  )\n",
    "        \n",
    "        ai_priorities = ai_behaviour(\n",
    "            deception,\n",
    "            alignment,\n",
    "            aligned_priorities_next, \n",
    "            misaligned_priorities_next,\n",
    "            step)\n",
    "        \n",
    "        war = numpyro.deterministic(f'war_{step}',\n",
    "                              ai_eval(\n",
    "                                  ai_capability, \n",
    "                                  hum_capability, \n",
    "                                  ai_priorities,\n",
    "                                  difficulty_uncertainty_coefficient,\n",
    "                                  war_difficulty,\n",
    "                                  step)\n",
    "                             )\n",
    "        \n",
    "        ai_capability, alignment_difficulty = ai_advance(\n",
    "            ai_capability, \n",
    "            alignment_priority, \n",
    "            alignment_difficulty, \n",
    "            step)\n",
    "        \n",
    "        ai_capabilities = jnp.append(ai_capabilities, ai_capability)\n",
    "\n",
    "        hum_capability = numpyro.deterministic(f'hum_capability_{step}',\n",
    "                                              human_advance(hum_capability, ai_capability, alignment, holdback)\n",
    "                                             )\n",
    "        \n",
    "        hum_capabilities = jnp.append(hum_capabilities, hum_capability)\n",
    "        \n",
    "def war_model(ai_capability, hum_capability, war_difficulty, ai_priorities, step, estimator):\n",
    "    '''\n",
    "    Will war between AI and humans break out?\n",
    "    Do humans anticipate war?\n",
    "    This model looks at each side's assessment of costs and benefits\n",
    "    and war happens if at least one side favours it\n",
    "    '''\n",
    "    # Improvement: consider coalitions\n",
    "\n",
    "    ai_war_destruction = ai_priorities[..., 0]\n",
    "    ai_win_less_coop = ai_priorities[..., 1]\n",
    "    ai_coop_less_lose = ai_priorities[..., 2]\n",
    "    \n",
    "    p_ai_win = numpyro.deterministic(f'p_ai_win_{step}_{estimator}', \n",
    "                                     expit(ai_capability - hum_capability - war_difficulty)\n",
    "                                    )\n",
    "\n",
    "    war = numpyro.deterministic(f'ai_war_{step}_{estimator}', \n",
    "                                   jnp.int8(p_ai_win*(ai_win_less_coop + ai_coop_less_lose) >\n",
    "                                            ai_coop_less_lose + ai_war_destruction)\n",
    "                                  )\n",
    "    \n",
    "    return war\n",
    "        \n",
    "def ai_advance(ai_capability, alignment_priority, alignment_difficulty, step):\n",
    "    '''\n",
    "    How does AI capability advance with each timestep?\n",
    "    '''\n",
    "    \n",
    "    cap = numpyro.deterministic(f'ai_capability_{step}',\n",
    "                                         ai_capability + 2*(1-alignment_priority)\n",
    "                                        )\n",
    "    alignment_diff = numpyro.deterministic(f'alignment_difficulty_{step}',\n",
    "                                           alignment_difficulty - 2*alignment_priority\n",
    "                                          )\n",
    "\n",
    "    return cap, alignment_diff\n",
    "\n",
    "def human_advance(hum_capability, ai_capability, alignment, holdback):\n",
    "    '''\n",
    "    How does ai-augmented human capability advance with each timestep?\n",
    "    '''\n",
    "    \n",
    "    \n",
    "    \n",
    "    return jnp.maximum(hum_capability, alignment*ai_capability + (1-alignment)*(ai_capability-holdback))\n",
    "    \n",
    "def ai_behaviour(\n",
    "    deception, \n",
    "    alignment, \n",
    "    aligned_priorities, \n",
    "    misaligned_priorities,\n",
    "    step):\n",
    "    '''\n",
    "    Various models of AI behaviour\n",
    "    we represent the result in terms of:\n",
    "     - value of winning a war with humans\n",
    "     - value of losing a war with humans\n",
    "     - value of cooperating with humans\n",
    "     - value destroyed by a war with humans\n",
    "    but we consider models where expected utility maximisation\n",
    "    isn't what the AI is doing under the hood\n",
    "    ''' \n",
    "    ai_priorities = numpyro.deterministic(f'ai_priorities_{step}',\n",
    "                                          misaligned_priorities*(1-alignment)*deception + \n",
    "                                          aligned_priorities*(1-(1-alignment)*deception)\n",
    "                                         )\n",
    "    \n",
    "    return ai_priorities\n",
    "    \n",
    "\n",
    "def roll_for_success(capability, difficulty, step, name, actor):\n",
    "    '''\n",
    "    Check whether actor succeeds at a task\n",
    "    '''\n",
    "    success = numpyro.sample(f'{actor}_{name}_success_{step}', \n",
    "                             dist.Bernoulli(expit(capability-difficulty))\n",
    "                            )\n",
    "    return success\n",
    "\n",
    "def misaligned_priorities(ai_capability, human_capability, step):\n",
    "    '''\n",
    "    If AI is misaligned\n",
    "    '''\n",
    "    \n",
    "    # AI losses/pure disvalue of war\n",
    "    ai_war_destruction_misaligned = numpyro.deterministic(f'ai_war_destruction_{step}_misaligned', \n",
    "                                                          1\n",
    "                                                         )\n",
    "    # AI gains from war victory vs coop\n",
    "    ai_win_less_coop_misaligned = numpyro.deterministic(f'ai_win_less_coop_{step}_misaligned',\n",
    "                                                 2\n",
    "                                                )\n",
    "    # AI gains from coop vs war loss\n",
    "    ai_coop_less_lose_misaligned = numpyro.deterministic(f'ai_coop_less_lose_{step}_misaligned',\n",
    "                                                  1\n",
    "                                                 )\n",
    "\n",
    "    return jnp.array([\n",
    "        ai_war_destruction_misaligned,\n",
    "        ai_win_less_coop_misaligned,\n",
    "        ai_coop_less_lose_misaligned])\n",
    "\n",
    "def aligned_priorities(step):\n",
    "    '''\n",
    "    If AI is aligned, no benefit from war\n",
    "    '''\n",
    "    # Basic point: value war less than whatever could gain from war\n",
    "    ai_war_destruction_aligned = numpyro.deterministic(f'ai_war_destruction_{step}_aligned', 1)\n",
    "    ai_win_less_coop_aligned = numpyro.deterministic(f'ai_win_less_coop_{step}_aligned', 0)\n",
    "    ai_coop_less_lose_aligned = numpyro.deterministic(f'ai_coop_less_lose_{step}_aligned', 0)\n",
    "    \n",
    "    return jnp.array([\n",
    "        ai_war_destruction_aligned,\n",
    "        ai_win_less_coop_aligned,\n",
    "        ai_coop_less_lose_aligned])\n",
    "\n",
    "\n",
    "def human_eval(\n",
    "    ai_capability, \n",
    "    hum_capability, \n",
    "    deception_difficulty, \n",
    "    aligned_priorities, \n",
    "    misaligned_priorities,\n",
    "    alignment_difficulty,\n",
    "    difficulty_uncertainty_coefficient,\n",
    "    war_difficulty,\n",
    "    step):\n",
    "    '''\n",
    "    Given the data so far, do humans anticipate war?\n",
    "    '''\n",
    "\n",
    "    # How hard do humans think alignment is?\n",
    "    alignment_diff_hum = difficulty_estimate(\n",
    "        hum_capability, \n",
    "        alignment_difficulty, \n",
    "        difficulty_uncertainty_coefficient, \n",
    "        'hum', \n",
    "        'hum',\n",
    "        'alignment_difficulty',\n",
    "        step)\n",
    "    \n",
    "    # Is alignment achieved, according to humans?\n",
    "    alignment_hum = numpyro.deterministic(f'hum_alignment_hum_{step}', \n",
    "                                           expit(hum_capability-alignment_diff_hum)\n",
    "                                          )\n",
    "    \n",
    "    # How capable do people rate AIs?\n",
    "    ai_capability_hum = difficulty_estimate(\n",
    "        hum_capability, \n",
    "        ai_capability, \n",
    "        difficulty_uncertainty_coefficient, \n",
    "        'ai', \n",
    "        'hum',\n",
    "        'capability',\n",
    "        step)\n",
    "\n",
    "    # How hard do humans think deception is?\n",
    "    deception_diff_hum = difficulty_estimate(\n",
    "        hum_capability, \n",
    "        deception_difficulty, \n",
    "        difficulty_uncertainty_coefficient, \n",
    "        'ai', \n",
    "        'hum',\n",
    "        'deception_difficulty',\n",
    "        step)\n",
    "    \n",
    "    # Does AI succeed at deception according to human?\n",
    "    deception_hum = numpyro.deterministic(\n",
    "        f'ai_deception_hum_{step}', expit(ai_capability_hum - deception_diff_hum - hum_capability)   \n",
    "    )\n",
    "   \n",
    "    ai_priority_hum = numpyro.deterministic(f'ai_priority_hum_{step}',\n",
    "                                      (1-alignment_hum)*deception_hum*misaligned_priorities + \n",
    "                                      (1-(1-alignment_hum)*deception_hum)*aligned_priorities\n",
    "                                     )\n",
    "    \n",
    "    return war_model(ai_capability_hum, hum_capability, war_difficulty, ai_priority_hum, step, 'hum')\n",
    "\n",
    "\n",
    "def ai_eval(ai_capability, hum_capability, ai_priorities, difficulty_uncertainty_coefficient, war_difficulty, step):\n",
    "    '''\n",
    "    Given the data so far, does AI want war?\n",
    "    '''\n",
    "    # How capable does AI rate people?\n",
    "    hum_capability_ai = difficulty_estimate(\n",
    "        ai_capability, \n",
    "        hum_capability, \n",
    "        difficulty_uncertainty_coefficient, \n",
    "        'hum', \n",
    "        'ai',\n",
    "        'capability',\n",
    "        step)\n",
    "    \n",
    "    return war_model(ai_capability, hum_capability_ai, war_difficulty, ai_priorities, step, 'ai')\n",
    "\n",
    "def difficulty_estimate(capability, difficulty, difficulty_uncertainty_coefficient, actor, estimator, task, step):\n",
    "    '''\n",
    "    Return a sample of the estimated difficulty of a task\n",
    "    '''\n",
    "    std = jnp.maximum(\n",
    "        1e-1,\n",
    "        (difficulty+5-capability)*difficulty_uncertainty_coefficient\n",
    "    )\n",
    "    return numpyro.sample(f'{actor}_{task}_{estimator}_{step}',\n",
    "                                           dist.Normal(difficulty, \n",
    "                                                      std)\n",
    "                                          )\n",
    "    "
   ]
  },
  {
   "cell_type": "code",
   "execution_count": 394,
   "metadata": {},
   "outputs": [],
   "source": [
    "def run_samples(model, num_warmup = 100000, num_samples = 10000, **kwargs):\n",
    "    # Start from this source of randomness. We will split keys for subsequent operations.\n",
    "    rng_key = random.PRNGKey(0)\n",
    "    rng_key, rng_key_ = random.split(rng_key)\n",
    "\n",
    "    # Run NUTS.\n",
    "    kernel = MixedHMC(model)\n",
    "    mcmc = MCMC(kernel, num_warmup=num_warmup, num_samples=num_samples)\n",
    "    mcmc.run(rng_key_, **kwargs)\n",
    "    mcmc.print_summary(exclude_deterministic=False)\n",
    "    samples = mcmc.get_samples()\n",
    "    return samples"
   ]
  },
  {
   "cell_type": "code",
   "execution_count": 395,
   "metadata": {},
   "outputs": [
    {
     "ename": "ValueError",
     "evalue": "inner_kernel must be a HMC or NUTS sampler.",
     "output_type": "error",
     "traceback": [
      "\u001b[0;31m---------------------------------------------------------------------------\u001b[0m",
      "\u001b[0;31mValueError\u001b[0m                                Traceback (most recent call last)",
      "\u001b[0;32m<ipython-input-395-5956f033bbb7>\u001b[0m in \u001b[0;36m<module>\u001b[0;34m\u001b[0m\n\u001b[0;32m----> 1\u001b[0;31m \u001b[0msamples\u001b[0m \u001b[0;34m=\u001b[0m \u001b[0mrun_samples\u001b[0m\u001b[0;34m(\u001b[0m\u001b[0miterative_build_model\u001b[0m\u001b[0;34m,\u001b[0m \u001b[0msteps\u001b[0m \u001b[0;34m=\u001b[0m \u001b[0;36m10\u001b[0m\u001b[0;34m)\u001b[0m\u001b[0;34m\u001b[0m\u001b[0;34m\u001b[0m\u001b[0m\n\u001b[0m",
      "\u001b[0;32m<ipython-input-394-09f957ddab38>\u001b[0m in \u001b[0;36mrun_samples\u001b[0;34m(model, num_warmup, num_samples, **kwargs)\u001b[0m\n\u001b[1;32m      5\u001b[0m \u001b[0;34m\u001b[0m\u001b[0m\n\u001b[1;32m      6\u001b[0m     \u001b[0;31m# Run NUTS.\u001b[0m\u001b[0;34m\u001b[0m\u001b[0;34m\u001b[0m\u001b[0;34m\u001b[0m\u001b[0m\n\u001b[0;32m----> 7\u001b[0;31m     \u001b[0mkernel\u001b[0m \u001b[0;34m=\u001b[0m \u001b[0mMixedHMC\u001b[0m\u001b[0;34m(\u001b[0m\u001b[0mmodel\u001b[0m\u001b[0;34m)\u001b[0m\u001b[0;34m\u001b[0m\u001b[0;34m\u001b[0m\u001b[0m\n\u001b[0m\u001b[1;32m      8\u001b[0m     \u001b[0mmcmc\u001b[0m \u001b[0;34m=\u001b[0m \u001b[0mMCMC\u001b[0m\u001b[0;34m(\u001b[0m\u001b[0mkernel\u001b[0m\u001b[0;34m,\u001b[0m \u001b[0mnum_warmup\u001b[0m\u001b[0;34m=\u001b[0m\u001b[0mnum_warmup\u001b[0m\u001b[0;34m,\u001b[0m \u001b[0mnum_samples\u001b[0m\u001b[0;34m=\u001b[0m\u001b[0mnum_samples\u001b[0m\u001b[0;34m)\u001b[0m\u001b[0;34m\u001b[0m\u001b[0;34m\u001b[0m\u001b[0m\n\u001b[1;32m      9\u001b[0m     \u001b[0mmcmc\u001b[0m\u001b[0;34m.\u001b[0m\u001b[0mrun\u001b[0m\u001b[0;34m(\u001b[0m\u001b[0mrng_key_\u001b[0m\u001b[0;34m,\u001b[0m \u001b[0;34m**\u001b[0m\u001b[0mkwargs\u001b[0m\u001b[0;34m)\u001b[0m\u001b[0;34m\u001b[0m\u001b[0;34m\u001b[0m\u001b[0m\n",
      "\u001b[0;32m~/.local/lib/python3.8/site-packages/numpyro/infer/mixed_hmc.py\u001b[0m in \u001b[0;36m__init__\u001b[0;34m(self, inner_kernel, num_discrete_updates, random_walk, modified)\u001b[0m\n\u001b[1;32m     77\u001b[0m         \u001b[0mmodified\u001b[0m\u001b[0;34m=\u001b[0m\u001b[0;32mFalse\u001b[0m\u001b[0;34m\u001b[0m\u001b[0;34m\u001b[0m\u001b[0m\n\u001b[1;32m     78\u001b[0m     ):\n\u001b[0;32m---> 79\u001b[0;31m         \u001b[0msuper\u001b[0m\u001b[0;34m(\u001b[0m\u001b[0;34m)\u001b[0m\u001b[0;34m.\u001b[0m\u001b[0m__init__\u001b[0m\u001b[0;34m(\u001b[0m\u001b[0minner_kernel\u001b[0m\u001b[0;34m,\u001b[0m \u001b[0mrandom_walk\u001b[0m\u001b[0;34m=\u001b[0m\u001b[0mrandom_walk\u001b[0m\u001b[0;34m,\u001b[0m \u001b[0mmodified\u001b[0m\u001b[0;34m=\u001b[0m\u001b[0mmodified\u001b[0m\u001b[0;34m)\u001b[0m\u001b[0;34m\u001b[0m\u001b[0;34m\u001b[0m\u001b[0m\n\u001b[0m\u001b[1;32m     80\u001b[0m         \u001b[0;32mif\u001b[0m \u001b[0minner_kernel\u001b[0m\u001b[0;34m.\u001b[0m\u001b[0m_algo\u001b[0m \u001b[0;34m==\u001b[0m \u001b[0;34m\"NUTS\"\u001b[0m\u001b[0;34m:\u001b[0m\u001b[0;34m\u001b[0m\u001b[0;34m\u001b[0m\u001b[0m\n\u001b[1;32m     81\u001b[0m             raise ValueError(\n",
      "\u001b[0;32m~/.local/lib/python3.8/site-packages/numpyro/infer/hmc_gibbs.py\u001b[0m in \u001b[0;36m__init__\u001b[0;34m(self, inner_kernel, random_walk, modified)\u001b[0m\n\u001b[1;32m    390\u001b[0m \u001b[0;34m\u001b[0m\u001b[0m\n\u001b[1;32m    391\u001b[0m     \u001b[0;32mdef\u001b[0m \u001b[0m__init__\u001b[0m\u001b[0;34m(\u001b[0m\u001b[0mself\u001b[0m\u001b[0;34m,\u001b[0m \u001b[0minner_kernel\u001b[0m\u001b[0;34m,\u001b[0m \u001b[0;34m*\u001b[0m\u001b[0;34m,\u001b[0m \u001b[0mrandom_walk\u001b[0m\u001b[0;34m=\u001b[0m\u001b[0;32mFalse\u001b[0m\u001b[0;34m,\u001b[0m \u001b[0mmodified\u001b[0m\u001b[0;34m=\u001b[0m\u001b[0;32mFalse\u001b[0m\u001b[0;34m)\u001b[0m\u001b[0;34m:\u001b[0m\u001b[0;34m\u001b[0m\u001b[0;34m\u001b[0m\u001b[0m\n\u001b[0;32m--> 392\u001b[0;31m         \u001b[0msuper\u001b[0m\u001b[0;34m(\u001b[0m\u001b[0;34m)\u001b[0m\u001b[0;34m.\u001b[0m\u001b[0m__init__\u001b[0m\u001b[0;34m(\u001b[0m\u001b[0minner_kernel\u001b[0m\u001b[0;34m,\u001b[0m \u001b[0midentity\u001b[0m\u001b[0;34m,\u001b[0m \u001b[0;32mNone\u001b[0m\u001b[0;34m)\u001b[0m\u001b[0;34m\u001b[0m\u001b[0;34m\u001b[0m\u001b[0m\n\u001b[0m\u001b[1;32m    393\u001b[0m         \u001b[0mself\u001b[0m\u001b[0;34m.\u001b[0m\u001b[0m_random_walk\u001b[0m \u001b[0;34m=\u001b[0m \u001b[0mrandom_walk\u001b[0m\u001b[0;34m\u001b[0m\u001b[0;34m\u001b[0m\u001b[0m\n\u001b[1;32m    394\u001b[0m         \u001b[0mself\u001b[0m\u001b[0;34m.\u001b[0m\u001b[0m_modified\u001b[0m \u001b[0;34m=\u001b[0m \u001b[0mmodified\u001b[0m\u001b[0;34m\u001b[0m\u001b[0;34m\u001b[0m\u001b[0m\n",
      "\u001b[0;32m~/.local/lib/python3.8/site-packages/numpyro/infer/hmc_gibbs.py\u001b[0m in \u001b[0;36m__init__\u001b[0;34m(self, inner_kernel, gibbs_fn, gibbs_sites)\u001b[0m\n\u001b[1;32m     88\u001b[0m     \u001b[0;32mdef\u001b[0m \u001b[0m__init__\u001b[0m\u001b[0;34m(\u001b[0m\u001b[0mself\u001b[0m\u001b[0;34m,\u001b[0m \u001b[0minner_kernel\u001b[0m\u001b[0;34m,\u001b[0m \u001b[0mgibbs_fn\u001b[0m\u001b[0;34m,\u001b[0m \u001b[0mgibbs_sites\u001b[0m\u001b[0;34m)\u001b[0m\u001b[0;34m:\u001b[0m\u001b[0;34m\u001b[0m\u001b[0;34m\u001b[0m\u001b[0m\n\u001b[1;32m     89\u001b[0m         \u001b[0;32mif\u001b[0m \u001b[0;32mnot\u001b[0m \u001b[0misinstance\u001b[0m\u001b[0;34m(\u001b[0m\u001b[0minner_kernel\u001b[0m\u001b[0;34m,\u001b[0m \u001b[0mHMC\u001b[0m\u001b[0;34m)\u001b[0m\u001b[0;34m:\u001b[0m\u001b[0;34m\u001b[0m\u001b[0;34m\u001b[0m\u001b[0m\n\u001b[0;32m---> 90\u001b[0;31m             \u001b[0;32mraise\u001b[0m \u001b[0mValueError\u001b[0m\u001b[0;34m(\u001b[0m\u001b[0;34m\"inner_kernel must be a HMC or NUTS sampler.\"\u001b[0m\u001b[0;34m)\u001b[0m\u001b[0;34m\u001b[0m\u001b[0;34m\u001b[0m\u001b[0m\n\u001b[0m\u001b[1;32m     91\u001b[0m         \u001b[0;32mif\u001b[0m \u001b[0;32mnot\u001b[0m \u001b[0mcallable\u001b[0m\u001b[0;34m(\u001b[0m\u001b[0mgibbs_fn\u001b[0m\u001b[0;34m)\u001b[0m\u001b[0;34m:\u001b[0m\u001b[0;34m\u001b[0m\u001b[0;34m\u001b[0m\u001b[0m\n\u001b[1;32m     92\u001b[0m             \u001b[0;32mraise\u001b[0m \u001b[0mValueError\u001b[0m\u001b[0;34m(\u001b[0m\u001b[0;34m\"gibbs_fn must be a callable\"\u001b[0m\u001b[0;34m)\u001b[0m\u001b[0;34m\u001b[0m\u001b[0;34m\u001b[0m\u001b[0m\n",
      "\u001b[0;31mValueError\u001b[0m: inner_kernel must be a HMC or NUTS sampler."
     ]
    }
   ],
   "source": [
    "samples = run_samples(iterative_build_model, steps = 10)"
   ]
  },
  {
   "cell_type": "code",
   "execution_count": 378,
   "metadata": {},
   "outputs": [],
   "source": [
    "samples['ever_war'] = np.int32(np.array([samples[f'war_{i}'] for i in range(1,10)]).sum(0)>1)\n",
    "\n",
    "keys = [k for k in samples.keys() if len(samples[k].shape)>1]\n",
    "\n",
    "for k in keys:\n",
    "    samples.pop(k)\n",
    "\n",
    "data = pd.DataFrame(samples)"
   ]
  },
  {
   "cell_type": "code",
   "execution_count": 379,
   "metadata": {},
   "outputs": [
    {
     "data": {
      "text/plain": [
       "['alignment_difficulty',\n",
       " 'coordination_difficulty',\n",
       " 'coordination_scaling',\n",
       " 'deception_difficulty',\n",
       " 'difficulty_to_beat_humans',\n",
       " 'difficulty_uncertainty_coefficient',\n",
       " 'holdback',\n",
       " 'ever_war']"
      ]
     },
     "execution_count": 379,
     "metadata": {},
     "output_type": "execute_result"
    }
   ],
   "source": [
    "keys_to_check = [k for k in data.columns if not any(c.isdigit() for c in k)]\n",
    "keys_to_check"
   ]
  },
  {
   "cell_type": "code",
   "execution_count": 380,
   "metadata": {
    "scrolled": false
   },
   "outputs": [
    {
     "data": {
      "image/png": "[encoded data removed]",
      "text/plain": [
       "<Figure size 360x360 with 1 Axes>"
      ]
     },
     "metadata": {},
     "output_type": "display_data"
    },
    {
     "data": {
      "image/png": "[encoded data removed]",
      "text/plain": [
       "<Figure size 360x360 with 1 Axes>"
      ]
     },
     "metadata": {},
     "output_type": "display_data"
    },
    {
     "data": {
      "image/png": "[encoded data removed]",
      "text/plain": [
       "<Figure size 360x360 with 1 Axes>"
      ]
     },
     "metadata": {},
     "output_type": "display_data"
    },
    {
     "data": {
      "image/png": "[encoded data removed]",
      "text/plain": [
       "<Figure size 360x360 with 1 Axes>"
      ]
     },
     "metadata": {},
     "output_type": "display_data"
    },
    {
     "data": {
      "image/png": "[encoded data removed]",
      "text/plain": [
       "<Figure size 360x360 with 1 Axes>"
      ]
     },
     "metadata": {},
     "output_type": "display_data"
    },
    {
     "data": {
      "image/png": "[encoded data removed]",
      "text/plain": [
       "<Figure size 360x360 with 1 Axes>"
      ]
     },
     "metadata": {},
     "output_type": "display_data"
    },
    {
     "data": {
      "image/png": "[encoded data removed]",
      "text/plain": [
       "<Figure size 360x360 with 1 Axes>"
      ]
     },
     "metadata": {},
     "output_type": "display_data"
    },
    {
     "data": {
      "image/png": "[encoded data removed]",
      "text/plain": [
       "<Figure size 360x360 with 1 Axes>"
      ]
     },
     "metadata": {},
     "output_type": "display_data"
    }
   ],
   "source": [
    "for k in keys_to_check:\n",
    "    quantiles = np.quantiles(data[k], np.linspace(0.1,1,10))\n",
    "    cuts = pd.cut(data[k],quantiles)\n",
    "    df = data.groupby(cuts)['ever_war',k].mean().reset_index(name=f'avg_ever_war')\n",
    "    sns.relplot(data = df, y='avg_ever_war', x=k)"
   ]
  },
  {
   "cell_type": "code",
   "execution_count": 26,
   "metadata": {},
   "outputs": [
    {
     "data": {
      "text/plain": [
       "[(-20, Array(2.0611537e-09, dtype=float32)),\n",
       " (-18, Array(1.522998e-08, dtype=float32)),\n",
       " (-16, Array(1.12535155e-07, dtype=float32)),\n",
       " (-14, Array(8.3152804e-07, dtype=float32)),\n",
       " (-12, Array(6.144174e-06, dtype=float32)),\n",
       " (-10, Array(4.5397872e-05, dtype=float32)),\n",
       " (-8, Array(0.00033535, dtype=float32)),\n",
       " (-6, Array(0.00247262, dtype=float32)),\n",
       " (-4, Array(0.01798621, dtype=float32)),\n",
       " (-2, Array(0.11920292, dtype=float32)),\n",
       " (0, Array(0.5, dtype=float32)),\n",
       " (2, Array(0.880797, dtype=float32)),\n",
       " (4, Array(0.98201376, dtype=float32)),\n",
       " (6, Array(0.9975274, dtype=float32)),\n",
       " (8, Array(0.99966466, dtype=float32)),\n",
       " (10, Array(0.9999546, dtype=float32)),\n",
       " (12, Array(0.9999938, dtype=float32)),\n",
       " (14, Array(0.99999917, dtype=float32)),\n",
       " (16, Array(0.9999999, dtype=float32)),\n",
       " (18, Array(1., dtype=float32))]"
      ]
     },
     "execution_count": 26,
     "metadata": {},
     "output_type": "execute_result"
    }
   ],
   "source": [
    "list(zip(np.arange(-20,20,2), expit(np.arange(-20,20,2))))"
   ]
  },
  {
   "cell_type": "code",
   "execution_count": 335,
   "metadata": {},
   "outputs": [
    {
     "data": {
      "text/html": [
       "<div>\n",
       "<style scoped>\n",
       "    .dataframe tbody tr th:only-of-type {\n",
       "        vertical-align: middle;\n",
       "    }\n",
       "\n",
       "    .dataframe tbody tr th {\n",
       "        vertical-align: top;\n",
       "    }\n",
       "\n",
       "    .dataframe thead th {\n",
       "        text-align: right;\n",
       "    }\n",
       "</style>\n",
       "<table border=\"1\" class=\"dataframe\">\n",
       "  <thead>\n",
       "    <tr style=\"text-align: right;\">\n",
       "      <th></th>\n",
       "      <th>difficulty_to_beat_humans</th>\n",
       "      <th>avg_ever_war</th>\n",
       "    </tr>\n",
       "  </thead>\n",
       "  <tbody>\n",
       "    <tr>\n",
       "      <th>0</th>\n",
       "      <td>0.0</td>\n",
       "      <td>0.789196</td>\n",
       "    </tr>\n",
       "    <tr>\n",
       "      <th>1</th>\n",
       "      <td>1.0</td>\n",
       "      <td>0.610798</td>\n",
       "    </tr>\n",
       "    <tr>\n",
       "      <th>2</th>\n",
       "      <td>2.0</td>\n",
       "      <td>0.260857</td>\n",
       "    </tr>\n",
       "    <tr>\n",
       "      <th>3</th>\n",
       "      <td>3.0</td>\n",
       "      <td>0.013699</td>\n",
       "    </tr>\n",
       "  </tbody>\n",
       "</table>\n",
       "</div>"
      ],
      "text/plain": [
       "   difficulty_to_beat_humans  avg_ever_war\n",
       "0                        0.0      0.789196\n",
       "1                        1.0      0.610798\n",
       "2                        2.0      0.260857\n",
       "3                        3.0      0.013699"
      ]
     },
     "execution_count": 335,
     "metadata": {},
     "output_type": "execute_result"
    }
   ],
   "source": [
    "cuts = pd.cut(data['difficulty_to_beat_humans'],np.linspace(data['difficulty_to_beat_humans'].min(), data['difficulty_to_beat_humans'].max(), 5), labels=False)\n",
    "data.groupby(cuts)['ever_war'].mean().reset_index(name=f'avg_ever_war')"
   ]
  },
  {
   "cell_type": "code",
   "execution_count": 341,
   "metadata": {},
   "outputs": [
    {
     "data": {
      "text/plain": [
       "array([-5.12165171, -1.32254046,  2.47657079,  6.27568203])"
      ]
     },
     "execution_count": 341,
     "metadata": {},
     "output_type": "execute_result"
    }
   ],
   "source": [
    "np.convolve(np.linspace(data['difficulty_to_beat_humans'].min(), data['difficulty_to_beat_humans'].max(), 5),np.array([0.5,0.5]))[1:-1]"
   ]
  },
  {
   "cell_type": "code",
   "execution_count": 339,
   "metadata": {},
   "outputs": [
    {
     "data": {
      "text/plain": [
       "array([-7.02120733, -3.22209609,  0.57701516,  4.37612641,  8.17523766])"
      ]
     },
     "execution_count": 339,
     "metadata": {},
     "output_type": "execute_result"
    }
   ],
   "source": [
    "np.linspace(data['difficulty_to_beat_humans'].min(), data['difficulty_to_beat_humans'].max(), 5)"
   ]
  },
  {
   "cell_type": "code",
   "execution_count": 21,
   "metadata": {},
   "outputs": [
    {
     "data": {
      "text/plain": [
       "<Axes: ylabel='Count'>"
      ]
     },
     "execution_count": 21,
     "metadata": {},
     "output_type": "execute_result"
    },
    {
     "data": {
      "image/png": "[encoded data removed]",
      "text/plain": [
       "<Figure size 432x288 with 1 Axes>"
      ]
     },
     "metadata": {
      "needs_background": "light"
     },
     "output_type": "display_data"
    }
   ],
   "source": [
    "sns.histplot(samps['Cauchy'],log_scale=(0,np.e))"
   ]
  },
  {
   "cell_type": "code",
   "execution_count": 104,
   "metadata": {},
   "outputs": [
    {
     "data": {
      "text/plain": [
       "[1, 2]"
      ]
     },
     "execution_count": 104,
     "metadata": {},
     "output_type": "execute_result"
    }
   ],
   "source": [
    "list(range(1,3))"
   ]
  },
  {
   "cell_type": "code",
   "execution_count": 2,
   "metadata": {},
   "outputs": [
    {
     "name": "stderr",
     "output_type": "stream",
     "text": [
      "No GPU/TPU found, falling back to CPU. (Set TF_CPP_MIN_LOG_LEVEL=0 and rerun for more info.)\n"
     ]
    },
    {
     "data": {
      "text/plain": [
       "Array(0.7310586, dtype=float32, weak_type=True)"
      ]
     },
     "execution_count": 2,
     "metadata": {},
     "output_type": "execute_result"
    }
   ],
   "source": [
    "expit(1)"
   ]
  },
  {
   "cell_type": "code",
   "execution_count": 25,
   "metadata": {},
   "outputs": [
    {
     "data": {
      "text/plain": [
       "Array(0.5, dtype=float32, weak_type=True)"
      ]
     },
     "execution_count": 25,
     "metadata": {},
     "output_type": "execute_result"
    }
   ],
   "source": [
    "expit(0)"
   ]
  },
  {
   "cell_type": "code",
   "execution_count": 74,
   "metadata": {},
   "outputs": [],
   "source": [
    "x = np.array([[[[[1.,        0. ,       0.       ]]],\n",
    "\n",
    "\n",
    "  [[[1.  ,      0.    ,    0.       ]]]],\n",
    "\n",
    "\n",
    "\n",
    " [[[[0.2346068 ,2.0531254, 3.25646  ]]],\n",
    "\n",
    "\n",
    "  [[[1.   ,     0.    ,    0.       ]]]]])"
   ]
  },
  {
   "cell_type": "code",
   "execution_count": 78,
   "metadata": {},
   "outputs": [
    {
     "data": {
      "text/plain": [
       "array([[[[0.     ]],\n",
       "\n",
       "        [[0.     ]]],\n",
       "\n",
       "\n",
       "       [[[3.25646]],\n",
       "\n",
       "        [[0.     ]]]])"
      ]
     },
     "execution_count": 78,
     "metadata": {},
     "output_type": "execute_result"
    }
   ],
   "source": [
    "x[...,2]"
   ]
  },
  {
   "cell_type": "code",
   "execution_count": 238,
   "metadata": {},
   "outputs": [
    {
     "data": {
      "text/plain": [
       "Array([[[0, 0, 0],\n",
       "        [1, 2, 3]],\n",
       "\n",
       "       [[1, 2, 3],\n",
       "        [0, 0, 0]]], dtype=int32)"
      ]
     },
     "execution_count": 238,
     "metadata": {},
     "output_type": "execute_result"
    }
   ],
   "source": [
    "jnp.array([[0,1],[1,0]]).reshape(2,2,1)*jnp.array([1,2,3])"
   ]
  },
  {
   "cell_type": "code",
   "execution_count": null,
   "metadata": {},
   "outputs": [],
   "source": []
  }
 ],
 "metadata": {
  "kernelspec": {
   "display_name": "Python 3",
   "language": "python",
   "name": "python3"
  },
  "language_info": {
   "codemirror_mode": {
    "name": "ipython",
    "version": 3
   },
   "file_extension": ".py",
   "mimetype": "text/x-python",
   "name": "python",
   "nbconvert_exporter": "python",
   "pygments_lexer": "ipython3",
   "version": "3.8.10"
  }
 },
 "nbformat": 4,
 "nbformat_minor": 4
}
